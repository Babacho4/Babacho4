{
 "cells": [
  {
   "cell_type": "code",
   "execution_count": 1,
   "id": "63ff3f73",
   "metadata": {},
   "outputs": [],
   "source": [
    "import requests \n",
    "import json \n",
    "import pandas as pd \n",
    "import matplotlib as mlp\n",
    "import matplotlib.pyplot as plt\n",
    "import seaborn as sns"
   ]
  },
  {
   "cell_type": "code",
   "execution_count": 2,
   "id": "43d994df",
   "metadata": {},
   "outputs": [],
   "source": [
    "url = \"https://pokeapi.co/api/v2/pokemon?limit=1200\"\n",
    "response = requests.get(url)\n",
    "contenido= response.content"
   ]
  },
  {
   "cell_type": "code",
   "execution_count": 3,
   "id": "4c946dc7",
   "metadata": {},
   "outputs": [
    {
     "name": "stdout",
     "output_type": "stream",
     "text": [
      "Wall time: 6 ms\n"
     ]
    },
    {
     "data": {
      "text/plain": [
       "(1118, 1)"
      ]
     },
     "execution_count": 3,
     "metadata": {},
     "output_type": "execute_result"
    }
   ],
   "source": [
    "%%time\n",
    "# Lista completa de pokemones\n",
    "data = json.loads(response.text)\n",
    "listado=data[\"results\"]\n",
    "\n",
    "df=pd.DataFrame(listado)\n",
    "df=df.drop(labels='url', axis=1)\n",
    "df.shape"
   ]
  },
  {
   "cell_type": "markdown",
   "id": "e4568f93",
   "metadata": {},
   "source": [
    "## Funcion por nombre"
   ]
  },
  {
   "cell_type": "code",
   "execution_count": 16,
   "id": "44e75841",
   "metadata": {},
   "outputs": [],
   "source": [
    "pokemones=df['name'].unique()"
   ]
  },
  {
   "cell_type": "code",
   "execution_count": 8,
   "id": "6eb2cfa9",
   "metadata": {},
   "outputs": [
    {
     "name": "stdout",
     "output_type": "stream",
     "text": [
      "Wall time: 3min 44s\n"
     ]
    }
   ],
   "source": [
    "%%time\n",
    "resultados=[]\n",
    "for y in pokemones:\n",
    "    url_stat = \"https://pokeapi.co/api/v2/pokemon/\"+ str(y)\n",
    "    response_stat = requests.get(url_stat)\n",
    "    pokelist= pd.json_normalize(json.loads(response_stat.text))[['id','name','height','weight','base_experience']]\n",
    "    resultados.append(pokelist)\n",
    "    df1=df.append(resultados).dropna()\n",
    "    df1.reset_index(drop=True, inplace=True)"
   ]
  },
  {
   "cell_type": "code",
   "execution_count": 15,
   "id": "fd3fcef7",
   "metadata": {},
   "outputs": [
    {
     "data": {
      "text/html": [
       "<div>\n",
       "<style scoped>\n",
       "    .dataframe tbody tr th:only-of-type {\n",
       "        vertical-align: middle;\n",
       "    }\n",
       "\n",
       "    .dataframe tbody tr th {\n",
       "        vertical-align: top;\n",
       "    }\n",
       "\n",
       "    .dataframe thead th {\n",
       "        text-align: right;\n",
       "    }\n",
       "</style>\n",
       "<table border=\"1\" class=\"dataframe\">\n",
       "  <thead>\n",
       "    <tr style=\"text-align: right;\">\n",
       "      <th></th>\n",
       "      <th>name</th>\n",
       "      <th>id</th>\n",
       "      <th>height</th>\n",
       "      <th>weight</th>\n",
       "      <th>base_experience</th>\n",
       "    </tr>\n",
       "  </thead>\n",
       "  <tbody>\n",
       "    <tr>\n",
       "      <th>1108</th>\n",
       "      <td>centiskorch-gmax</td>\n",
       "      <td>10211.0</td>\n",
       "      <td>750.0</td>\n",
       "      <td>10000.0</td>\n",
       "      <td>184.0</td>\n",
       "    </tr>\n",
       "    <tr>\n",
       "      <th>1109</th>\n",
       "      <td>hatterene-gmax</td>\n",
       "      <td>10212.0</td>\n",
       "      <td>260.0</td>\n",
       "      <td>10000.0</td>\n",
       "      <td>255.0</td>\n",
       "    </tr>\n",
       "    <tr>\n",
       "      <th>1110</th>\n",
       "      <td>grimmsnarl-gmax</td>\n",
       "      <td>10213.0</td>\n",
       "      <td>320.0</td>\n",
       "      <td>10000.0</td>\n",
       "      <td>255.0</td>\n",
       "    </tr>\n",
       "    <tr>\n",
       "      <th>1111</th>\n",
       "      <td>alcremie-gmax</td>\n",
       "      <td>10214.0</td>\n",
       "      <td>300.0</td>\n",
       "      <td>10000.0</td>\n",
       "      <td>173.0</td>\n",
       "    </tr>\n",
       "    <tr>\n",
       "      <th>1112</th>\n",
       "      <td>copperajah-gmax</td>\n",
       "      <td>10215.0</td>\n",
       "      <td>230.0</td>\n",
       "      <td>10000.0</td>\n",
       "      <td>175.0</td>\n",
       "    </tr>\n",
       "    <tr>\n",
       "      <th>1113</th>\n",
       "      <td>duraludon-gmax</td>\n",
       "      <td>10216.0</td>\n",
       "      <td>430.0</td>\n",
       "      <td>10000.0</td>\n",
       "      <td>187.0</td>\n",
       "    </tr>\n",
       "    <tr>\n",
       "      <th>1114</th>\n",
       "      <td>eternatus-eternamax</td>\n",
       "      <td>10217.0</td>\n",
       "      <td>1000.0</td>\n",
       "      <td>10000.0</td>\n",
       "      <td>345.0</td>\n",
       "    </tr>\n",
       "    <tr>\n",
       "      <th>1115</th>\n",
       "      <td>urshifu-single-strike-gmax</td>\n",
       "      <td>10218.0</td>\n",
       "      <td>290.0</td>\n",
       "      <td>10000.0</td>\n",
       "      <td>275.0</td>\n",
       "    </tr>\n",
       "    <tr>\n",
       "      <th>1116</th>\n",
       "      <td>urshifu-rapid-strike-gmax</td>\n",
       "      <td>10219.0</td>\n",
       "      <td>260.0</td>\n",
       "      <td>10000.0</td>\n",
       "      <td>275.0</td>\n",
       "    </tr>\n",
       "    <tr>\n",
       "      <th>1117</th>\n",
       "      <td>toxtricity-low-key-gmax</td>\n",
       "      <td>10220.0</td>\n",
       "      <td>240.0</td>\n",
       "      <td>10000.0</td>\n",
       "      <td>176.0</td>\n",
       "    </tr>\n",
       "  </tbody>\n",
       "</table>\n",
       "</div>"
      ],
      "text/plain": [
       "                            name       id  height   weight  base_experience\n",
       "1108            centiskorch-gmax  10211.0   750.0  10000.0            184.0\n",
       "1109              hatterene-gmax  10212.0   260.0  10000.0            255.0\n",
       "1110             grimmsnarl-gmax  10213.0   320.0  10000.0            255.0\n",
       "1111               alcremie-gmax  10214.0   300.0  10000.0            173.0\n",
       "1112             copperajah-gmax  10215.0   230.0  10000.0            175.0\n",
       "1113              duraludon-gmax  10216.0   430.0  10000.0            187.0\n",
       "1114         eternatus-eternamax  10217.0  1000.0  10000.0            345.0\n",
       "1115  urshifu-single-strike-gmax  10218.0   290.0  10000.0            275.0\n",
       "1116   urshifu-rapid-strike-gmax  10219.0   260.0  10000.0            275.0\n",
       "1117     toxtricity-low-key-gmax  10220.0   240.0  10000.0            176.0"
      ]
     },
     "execution_count": 15,
     "metadata": {},
     "output_type": "execute_result"
    }
   ],
   "source": [
    "df1.tail(10)"
   ]
  },
  {
   "cell_type": "markdown",
   "id": "0878e105",
   "metadata": {},
   "source": [
    "## Agregar TIPO"
   ]
  },
  {
   "cell_type": "code",
   "execution_count": 17,
   "id": "89bc5174",
   "metadata": {},
   "outputs": [
    {
     "name": "stdout",
     "output_type": "stream",
     "text": [
      "Wall time: 1min 27s\n"
     ]
    }
   ],
   "source": [
    "%%time\n",
    "y=0\n",
    "typelist=[]\n",
    "for y in pokemones:\n",
    "    url3 = \"https://pokeapi.co/api/v2/pokemon/\"+str(y)\n",
    "    response3 = requests.get(url3)\n",
    "    contenido3= response3.content\n",
    "    data3 = json.loads(response3.text)\n",
    "    results3=data3[\"types\"]\n",
    "    slot1=results3[0:1]\n",
    "    tipo=slot1[0]['type']['name']\n",
    "    typelist.append(tipo)\n",
    "    \n",
    "df3 = pd.DataFrame(typelist, columns=['Tipo'])"
   ]
  },
  {
   "cell_type": "code",
   "execution_count": 22,
   "id": "2a96f12f",
   "metadata": {},
   "outputs": [
    {
     "data": {
      "text/html": [
       "<div>\n",
       "<style scoped>\n",
       "    .dataframe tbody tr th:only-of-type {\n",
       "        vertical-align: middle;\n",
       "    }\n",
       "\n",
       "    .dataframe tbody tr th {\n",
       "        vertical-align: top;\n",
       "    }\n",
       "\n",
       "    .dataframe thead th {\n",
       "        text-align: right;\n",
       "    }\n",
       "</style>\n",
       "<table border=\"1\" class=\"dataframe\">\n",
       "  <thead>\n",
       "    <tr style=\"text-align: right;\">\n",
       "      <th></th>\n",
       "      <th>name</th>\n",
       "      <th>id</th>\n",
       "      <th>height</th>\n",
       "      <th>weight</th>\n",
       "      <th>base_experience</th>\n",
       "      <th>Tipo</th>\n",
       "    </tr>\n",
       "  </thead>\n",
       "  <tbody>\n",
       "    <tr>\n",
       "      <th>0</th>\n",
       "      <td>bulbasaur</td>\n",
       "      <td>1.0</td>\n",
       "      <td>7.0</td>\n",
       "      <td>69.0</td>\n",
       "      <td>64.0</td>\n",
       "      <td>grass</td>\n",
       "    </tr>\n",
       "    <tr>\n",
       "      <th>1</th>\n",
       "      <td>ivysaur</td>\n",
       "      <td>2.0</td>\n",
       "      <td>10.0</td>\n",
       "      <td>130.0</td>\n",
       "      <td>142.0</td>\n",
       "      <td>grass</td>\n",
       "    </tr>\n",
       "    <tr>\n",
       "      <th>2</th>\n",
       "      <td>venusaur</td>\n",
       "      <td>3.0</td>\n",
       "      <td>20.0</td>\n",
       "      <td>1000.0</td>\n",
       "      <td>236.0</td>\n",
       "      <td>grass</td>\n",
       "    </tr>\n",
       "    <tr>\n",
       "      <th>3</th>\n",
       "      <td>charmander</td>\n",
       "      <td>4.0</td>\n",
       "      <td>6.0</td>\n",
       "      <td>85.0</td>\n",
       "      <td>62.0</td>\n",
       "      <td>fire</td>\n",
       "    </tr>\n",
       "    <tr>\n",
       "      <th>4</th>\n",
       "      <td>charmeleon</td>\n",
       "      <td>5.0</td>\n",
       "      <td>11.0</td>\n",
       "      <td>190.0</td>\n",
       "      <td>142.0</td>\n",
       "      <td>fire</td>\n",
       "    </tr>\n",
       "  </tbody>\n",
       "</table>\n",
       "</div>"
      ],
      "text/plain": [
       "         name   id  height  weight  base_experience   Tipo\n",
       "0   bulbasaur  1.0     7.0    69.0             64.0  grass\n",
       "1     ivysaur  2.0    10.0   130.0            142.0  grass\n",
       "2    venusaur  3.0    20.0  1000.0            236.0  grass\n",
       "3  charmander  4.0     6.0    85.0             62.0   fire\n",
       "4  charmeleon  5.0    11.0   190.0            142.0   fire"
      ]
     },
     "execution_count": 22,
     "metadata": {},
     "output_type": "execute_result"
    }
   ],
   "source": [
    "bigdata = pd.concat([df1,df3], axis=1)\n",
    "bigdata.head()"
   ]
  },
  {
   "cell_type": "markdown",
   "id": "a5c86527",
   "metadata": {},
   "source": [
    "## Graficas"
   ]
  },
  {
   "cell_type": "code",
   "execution_count": 19,
   "id": "8f74208e",
   "metadata": {},
   "outputs": [
    {
     "data": {
      "text/plain": [
       "water       141\n",
       "normal      118\n",
       "grass        96\n",
       "bug          85\n",
       "psychic      80\n",
       "electric     77\n",
       "rock         73\n",
       "fire         69\n",
       "dark         48\n",
       "ghost        46\n",
       "fighting     45\n",
       "poison       43\n",
       "dragon       43\n",
       "ground       42\n",
       "steel        40\n",
       "ice          39\n",
       "fairy        24\n",
       "flying        9\n",
       "Name: Tipo, dtype: int64"
      ]
     },
     "execution_count": 19,
     "metadata": {},
     "output_type": "execute_result"
    }
   ],
   "source": [
    "values=bigdata['Tipo'].value_counts()\n",
    "tags=bigdata['Tipo'].unique()\n",
    "values"
   ]
  },
  {
   "cell_type": "code",
   "execution_count": 20,
   "id": "242e0051",
   "metadata": {},
   "outputs": [
    {
     "data": {
      "image/png": "[encoded data removed]",
      "text/plain": [
       "<Figure size 432x288 with 1 Axes>"
      ]
     },
     "metadata": {},
     "output_type": "display_data"
    }
   ],
   "source": [
    "sns.set_theme(style=\"whitegrid\")\n",
    "plt.xticks(rotation=90)\n",
    "ax = sns.barplot(x=tags, y=values, data=bigdata)"
   ]
  },
  {
   "cell_type": "code",
   "execution_count": null,
   "id": "46ba1138",
   "metadata": {},
   "outputs": [],
   "source": []
  },
  {
   "cell_type": "code",
   "execution_count": null,
   "id": "ba9f176c",
   "metadata": {},
   "outputs": [],
   "source": []
  },
  {
   "cell_type": "markdown",
   "id": "19beff28",
   "metadata": {},
   "source": [
    "## APENDIX"
   ]
  },
  {
   "cell_type": "markdown",
   "id": "6af002b1",
   "metadata": {},
   "source": [
    "#### FUNCION X ID"
   ]
  },
  {
   "cell_type": "code",
   "execution_count": 4,
   "id": "a4edb6e5",
   "metadata": {},
   "outputs": [],
   "source": [
    "# %%time\n",
    "# x=0\n",
    "# result=[]\n",
    "# while x < 898:\n",
    "#         x=x +1\n",
    "#         url_stat = \"https://pokeapi.co/api/v2/pokemon/\"+ str(x)\n",
    "#         response_stat = requests.get(url_stat)\n",
    "#         pokelist= pd.json_normalize(json.loads(response_stat.text))[['id','name','height','weight','base_experience']]\n",
    "#         result.append(pokelist)\n",
    "#         df1=df.append(result).dropna()\n",
    "#         df1.reset_index(drop=True, inplace=True)\n",
    "# # df2.to_csv('pokemon.csv', index=False)"
   ]
  },
  {
   "cell_type": "code",
   "execution_count": 5,
   "id": "9f8e1c0f",
   "metadata": {},
   "outputs": [],
   "source": [
    "# %%time\n",
    "# x1=10000\n",
    "# result1=[]\n",
    "# while x1 < 10220:\n",
    "#         x1=x1 +1\n",
    "#         url_stat1 = \"https://pokeapi.co/api/v2/pokemon/\"+ str(x1)\n",
    "#         response_stat1 = requests.get(url_stat1)\n",
    "#         pokelist1= pd.json_normalize(json.loads(response_stat1.text))[['id','name','height','weight','base_experience']]\n",
    "#         result1.append(pokelist1)\n",
    "#         df2=df.append(result1).dropna()\n",
    "#         df2.reset_index(drop=True, inplace=True)\n",
    "# # df2.to_csv('pokemon.csv', index=False)"
   ]
  },
  {
   "cell_type": "markdown",
   "id": "b882ed5c",
   "metadata": {},
   "source": [
    "#### Locator Type Fx"
   ]
  },
  {
   "cell_type": "code",
   "execution_count": null,
   "id": "da422269",
   "metadata": {},
   "outputs": [],
   "source": [
    "# ## LOCATOR DE TYPE\n",
    "# url3 = \"https://pokeapi.co/api/v2/pokemon/2/\"\n",
    "# response3 = requests.get(url3)\n",
    "# contenido3= response3.content\n",
    "# data3 = json.loads(response3.text)\n",
    "# results3=data3[\"types\"]\n",
    "# slot1=results3[0:1]\n",
    "# grass=slot1[0]['type']['name']\n",
    "# grass"
   ]
  },
  {
   "cell_type": "code",
   "execution_count": null,
   "id": "6ed6bf3d",
   "metadata": {},
   "outputs": [],
   "source": [
    "# def poketype(y):\n",
    "#     url3 = \"https://pokeapi.co/api/v2/pokemon/\"+str(y)\n",
    "#     response3 = requests.get(url3)\n",
    "#     contenido3= response3.content\n",
    "#     data3 = json.loads(response3.text)\n",
    "#     results3=data3[\"types\"]\n",
    "#     slot1=results3[0:1]\n",
    "#     tipo=slot1[0]['type']['name']\n",
    "#     df2['tipo']= tipo\n",
    "#     return df2"
   ]
  }
 ],
 "metadata": {
  "kernelspec": {
   "display_name": "Python 3 (ipykernel)",
   "language": "python",
   "name": "python3"
  },
  "language_info": {
   "codemirror_mode": {
    "name": "ipython",
    "version": 3
   },
   "file_extension": ".py",
   "mimetype": "text/x-python",
   "name": "python",
   "nbconvert_exporter": "python",
   "pygments_lexer": "ipython3",
   "version": "3.8.11"
  }
 },
 "nbformat": 4,
 "nbformat_minor": 5
}

{
 "cells": [
  {
   "cell_type": "code",
   "execution_count": 1,
   "id": "92af1d71",
   "metadata": {},
   "outputs": [],
   "source": [
    "import numpy as np\n",
    "import pandas as pd\n",
    "import seaborn as sns\n",
    "from sklearn.preprocessing import StandardScaler\n",
    "from sklearn.cluster import KMeans\n",
    "from sklearn.decomposition import PCA\n",
    "import matplotlib.pyplot as plt\n",
    "from sklearn import preprocessing\n",
    "from sklearn.model_selection import train_test_split\n",
    "from sklearn.datasets import make_classification\n",
    "from sklearn.linear_model import LogisticRegression\n",
    "from sklearn.preprocessing import StandardScaler"
   ]
  },
  {
   "cell_type": "code",
   "execution_count": 2,
   "id": "d30ecbde",
   "metadata": {},
   "outputs": [
    {
     "data": {
      "text/html": [
       "<div>\n",
       "<style scoped>\n",
       "    .dataframe tbody tr th:only-of-type {\n",
       "        vertical-align: middle;\n",
       "    }\n",
       "\n",
       "    .dataframe tbody tr th {\n",
       "        vertical-align: top;\n",
       "    }\n",
       "\n",
       "    .dataframe thead th {\n",
       "        text-align: right;\n",
       "    }\n",
       "</style>\n",
       "<table border=\"1\" class=\"dataframe\">\n",
       "  <thead>\n",
       "    <tr style=\"text-align: right;\">\n",
       "      <th></th>\n",
       "      <th>ï»¿</th>\n",
       "      <th>ID</th>\n",
       "      <th>Name</th>\n",
       "      <th>Age</th>\n",
       "      <th>Photo</th>\n",
       "      <th>Nationality</th>\n",
       "      <th>Flag</th>\n",
       "      <th>Overall</th>\n",
       "      <th>Potential</th>\n",
       "      <th>Club</th>\n",
       "      <th>...</th>\n",
       "      <th>Composure</th>\n",
       "      <th>Marking</th>\n",
       "      <th>StandingTackle</th>\n",
       "      <th>SlidingTackle</th>\n",
       "      <th>GKDiving</th>\n",
       "      <th>GKHandling</th>\n",
       "      <th>GKKicking</th>\n",
       "      <th>GKPositioning</th>\n",
       "      <th>GKReflexes</th>\n",
       "      <th>Release Clause</th>\n",
       "    </tr>\n",
       "  </thead>\n",
       "  <tbody>\n",
       "    <tr>\n",
       "      <th>0</th>\n",
       "      <td>0</td>\n",
       "      <td>158023</td>\n",
       "      <td>L. Messi</td>\n",
       "      <td>31</td>\n",
       "      <td>https://cdn.sofifa.org/players/4/19/158023.png</td>\n",
       "      <td>Argentina</td>\n",
       "      <td>https://cdn.sofifa.org/flags/52.png</td>\n",
       "      <td>94</td>\n",
       "      <td>94</td>\n",
       "      <td>FC Barcelona</td>\n",
       "      <td>...</td>\n",
       "      <td>96.0</td>\n",
       "      <td>33.0</td>\n",
       "      <td>28.0</td>\n",
       "      <td>26.0</td>\n",
       "      <td>6.0</td>\n",
       "      <td>11.0</td>\n",
       "      <td>15.0</td>\n",
       "      <td>14.0</td>\n",
       "      <td>8.0</td>\n",
       "      <td>â¬226.5M</td>\n",
       "    </tr>\n",
       "    <tr>\n",
       "      <th>1</th>\n",
       "      <td>1</td>\n",
       "      <td>20801</td>\n",
       "      <td>Cristiano Ronaldo</td>\n",
       "      <td>33</td>\n",
       "      <td>https://cdn.sofifa.org/players/4/19/20801.png</td>\n",
       "      <td>Portugal</td>\n",
       "      <td>https://cdn.sofifa.org/flags/38.png</td>\n",
       "      <td>94</td>\n",
       "      <td>94</td>\n",
       "      <td>Juventus</td>\n",
       "      <td>...</td>\n",
       "      <td>95.0</td>\n",
       "      <td>28.0</td>\n",
       "      <td>31.0</td>\n",
       "      <td>23.0</td>\n",
       "      <td>7.0</td>\n",
       "      <td>11.0</td>\n",
       "      <td>15.0</td>\n",
       "      <td>14.0</td>\n",
       "      <td>11.0</td>\n",
       "      <td>â¬127.1M</td>\n",
       "    </tr>\n",
       "    <tr>\n",
       "      <th>2</th>\n",
       "      <td>2</td>\n",
       "      <td>190871</td>\n",
       "      <td>Neymar Jr</td>\n",
       "      <td>26</td>\n",
       "      <td>https://cdn.sofifa.org/players/4/19/190871.png</td>\n",
       "      <td>Brazil</td>\n",
       "      <td>https://cdn.sofifa.org/flags/54.png</td>\n",
       "      <td>92</td>\n",
       "      <td>93</td>\n",
       "      <td>Paris Saint-Germain</td>\n",
       "      <td>...</td>\n",
       "      <td>94.0</td>\n",
       "      <td>27.0</td>\n",
       "      <td>24.0</td>\n",
       "      <td>33.0</td>\n",
       "      <td>9.0</td>\n",
       "      <td>9.0</td>\n",
       "      <td>15.0</td>\n",
       "      <td>15.0</td>\n",
       "      <td>11.0</td>\n",
       "      <td>â¬228.1M</td>\n",
       "    </tr>\n",
       "    <tr>\n",
       "      <th>3</th>\n",
       "      <td>3</td>\n",
       "      <td>193080</td>\n",
       "      <td>De Gea</td>\n",
       "      <td>27</td>\n",
       "      <td>https://cdn.sofifa.org/players/4/19/193080.png</td>\n",
       "      <td>Spain</td>\n",
       "      <td>https://cdn.sofifa.org/flags/45.png</td>\n",
       "      <td>91</td>\n",
       "      <td>93</td>\n",
       "      <td>Manchester United</td>\n",
       "      <td>...</td>\n",
       "      <td>68.0</td>\n",
       "      <td>15.0</td>\n",
       "      <td>21.0</td>\n",
       "      <td>13.0</td>\n",
       "      <td>90.0</td>\n",
       "      <td>85.0</td>\n",
       "      <td>87.0</td>\n",
       "      <td>88.0</td>\n",
       "      <td>94.0</td>\n",
       "      <td>â¬138.6M</td>\n",
       "    </tr>\n",
       "    <tr>\n",
       "      <th>4</th>\n",
       "      <td>4</td>\n",
       "      <td>192985</td>\n",
       "      <td>K. De Bruyne</td>\n",
       "      <td>27</td>\n",
       "      <td>https://cdn.sofifa.org/players/4/19/192985.png</td>\n",
       "      <td>Belgium</td>\n",
       "      <td>https://cdn.sofifa.org/flags/7.png</td>\n",
       "      <td>91</td>\n",
       "      <td>92</td>\n",
       "      <td>Manchester City</td>\n",
       "      <td>...</td>\n",
       "      <td>88.0</td>\n",
       "      <td>68.0</td>\n",
       "      <td>58.0</td>\n",
       "      <td>51.0</td>\n",
       "      <td>15.0</td>\n",
       "      <td>13.0</td>\n",
       "      <td>5.0</td>\n",
       "      <td>10.0</td>\n",
       "      <td>13.0</td>\n",
       "      <td>â¬196.4M</td>\n",
       "    </tr>\n",
       "    <tr>\n",
       "      <th>5</th>\n",
       "      <td>5</td>\n",
       "      <td>183277</td>\n",
       "      <td>E. Hazard</td>\n",
       "      <td>27</td>\n",
       "      <td>https://cdn.sofifa.org/players/4/19/183277.png</td>\n",
       "      <td>Belgium</td>\n",
       "      <td>https://cdn.sofifa.org/flags/7.png</td>\n",
       "      <td>91</td>\n",
       "      <td>91</td>\n",
       "      <td>Chelsea</td>\n",
       "      <td>...</td>\n",
       "      <td>91.0</td>\n",
       "      <td>34.0</td>\n",
       "      <td>27.0</td>\n",
       "      <td>22.0</td>\n",
       "      <td>11.0</td>\n",
       "      <td>12.0</td>\n",
       "      <td>6.0</td>\n",
       "      <td>8.0</td>\n",
       "      <td>8.0</td>\n",
       "      <td>â¬172.1M</td>\n",
       "    </tr>\n",
       "    <tr>\n",
       "      <th>6</th>\n",
       "      <td>6</td>\n",
       "      <td>177003</td>\n",
       "      <td>L. ModriÄ</td>\n",
       "      <td>32</td>\n",
       "      <td>https://cdn.sofifa.org/players/4/19/177003.png</td>\n",
       "      <td>Croatia</td>\n",
       "      <td>https://cdn.sofifa.org/flags/10.png</td>\n",
       "      <td>91</td>\n",
       "      <td>91</td>\n",
       "      <td>Real Madrid</td>\n",
       "      <td>...</td>\n",
       "      <td>84.0</td>\n",
       "      <td>60.0</td>\n",
       "      <td>76.0</td>\n",
       "      <td>73.0</td>\n",
       "      <td>13.0</td>\n",
       "      <td>9.0</td>\n",
       "      <td>7.0</td>\n",
       "      <td>14.0</td>\n",
       "      <td>9.0</td>\n",
       "      <td>â¬137.4M</td>\n",
       "    </tr>\n",
       "    <tr>\n",
       "      <th>7</th>\n",
       "      <td>7</td>\n",
       "      <td>176580</td>\n",
       "      <td>L. SuÃ¡rez</td>\n",
       "      <td>31</td>\n",
       "      <td>https://cdn.sofifa.org/players/4/19/176580.png</td>\n",
       "      <td>Uruguay</td>\n",
       "      <td>https://cdn.sofifa.org/flags/60.png</td>\n",
       "      <td>91</td>\n",
       "      <td>91</td>\n",
       "      <td>FC Barcelona</td>\n",
       "      <td>...</td>\n",
       "      <td>85.0</td>\n",
       "      <td>62.0</td>\n",
       "      <td>45.0</td>\n",
       "      <td>38.0</td>\n",
       "      <td>27.0</td>\n",
       "      <td>25.0</td>\n",
       "      <td>31.0</td>\n",
       "      <td>33.0</td>\n",
       "      <td>37.0</td>\n",
       "      <td>â¬164M</td>\n",
       "    </tr>\n",
       "    <tr>\n",
       "      <th>8</th>\n",
       "      <td>8</td>\n",
       "      <td>155862</td>\n",
       "      <td>Sergio Ramos</td>\n",
       "      <td>32</td>\n",
       "      <td>https://cdn.sofifa.org/players/4/19/155862.png</td>\n",
       "      <td>Spain</td>\n",
       "      <td>https://cdn.sofifa.org/flags/45.png</td>\n",
       "      <td>91</td>\n",
       "      <td>91</td>\n",
       "      <td>Real Madrid</td>\n",
       "      <td>...</td>\n",
       "      <td>82.0</td>\n",
       "      <td>87.0</td>\n",
       "      <td>92.0</td>\n",
       "      <td>91.0</td>\n",
       "      <td>11.0</td>\n",
       "      <td>8.0</td>\n",
       "      <td>9.0</td>\n",
       "      <td>7.0</td>\n",
       "      <td>11.0</td>\n",
       "      <td>â¬104.6M</td>\n",
       "    </tr>\n",
       "    <tr>\n",
       "      <th>9</th>\n",
       "      <td>9</td>\n",
       "      <td>200389</td>\n",
       "      <td>J. Oblak</td>\n",
       "      <td>25</td>\n",
       "      <td>https://cdn.sofifa.org/players/4/19/200389.png</td>\n",
       "      <td>Slovenia</td>\n",
       "      <td>https://cdn.sofifa.org/flags/44.png</td>\n",
       "      <td>90</td>\n",
       "      <td>93</td>\n",
       "      <td>AtlÃ©tico Madrid</td>\n",
       "      <td>...</td>\n",
       "      <td>70.0</td>\n",
       "      <td>27.0</td>\n",
       "      <td>12.0</td>\n",
       "      <td>18.0</td>\n",
       "      <td>86.0</td>\n",
       "      <td>92.0</td>\n",
       "      <td>78.0</td>\n",
       "      <td>88.0</td>\n",
       "      <td>89.0</td>\n",
       "      <td>â¬144.5M</td>\n",
       "    </tr>\n",
       "  </tbody>\n",
       "</table>\n",
       "<p>10 rows × 89 columns</p>\n",
       "</div>"
      ],
      "text/plain": [
       "   ï»¿      ID               Name  Age  \\\n",
       "0    0  158023           L. Messi   31   \n",
       "1    1   20801  Cristiano Ronaldo   33   \n",
       "2    2  190871          Neymar Jr   26   \n",
       "3    3  193080             De Gea   27   \n",
       "4    4  192985       K. De Bruyne   27   \n",
       "5    5  183277          E. Hazard   27   \n",
       "6    6  177003         L. ModriÄ   32   \n",
       "7    7  176580         L. SuÃ¡rez   31   \n",
       "8    8  155862       Sergio Ramos   32   \n",
       "9    9  200389           J. Oblak   25   \n",
       "\n",
       "                                            Photo Nationality  \\\n",
       "0  https://cdn.sofifa.org/players/4/19/158023.png   Argentina   \n",
       "1   https://cdn.sofifa.org/players/4/19/20801.png    Portugal   \n",
       "2  https://cdn.sofifa.org/players/4/19/190871.png      Brazil   \n",
       "3  https://cdn.sofifa.org/players/4/19/193080.png       Spain   \n",
       "4  https://cdn.sofifa.org/players/4/19/192985.png     Belgium   \n",
       "5  https://cdn.sofifa.org/players/4/19/183277.png     Belgium   \n",
       "6  https://cdn.sofifa.org/players/4/19/177003.png     Croatia   \n",
       "7  https://cdn.sofifa.org/players/4/19/176580.png     Uruguay   \n",
       "8  https://cdn.sofifa.org/players/4/19/155862.png       Spain   \n",
       "9  https://cdn.sofifa.org/players/4/19/200389.png    Slovenia   \n",
       "\n",
       "                                  Flag  Overall  Potential  \\\n",
       "0  https://cdn.sofifa.org/flags/52.png       94         94   \n",
       "1  https://cdn.sofifa.org/flags/38.png       94         94   \n",
       "2  https://cdn.sofifa.org/flags/54.png       92         93   \n",
       "3  https://cdn.sofifa.org/flags/45.png       91         93   \n",
       "4   https://cdn.sofifa.org/flags/7.png       91         92   \n",
       "5   https://cdn.sofifa.org/flags/7.png       91         91   \n",
       "6  https://cdn.sofifa.org/flags/10.png       91         91   \n",
       "7  https://cdn.sofifa.org/flags/60.png       91         91   \n",
       "8  https://cdn.sofifa.org/flags/45.png       91         91   \n",
       "9  https://cdn.sofifa.org/flags/44.png       90         93   \n",
       "\n",
       "                  Club  ... Composure Marking StandingTackle  SlidingTackle  \\\n",
       "0         FC Barcelona  ...      96.0    33.0           28.0           26.0   \n",
       "1             Juventus  ...      95.0    28.0           31.0           23.0   \n",
       "2  Paris Saint-Germain  ...      94.0    27.0           24.0           33.0   \n",
       "3    Manchester United  ...      68.0    15.0           21.0           13.0   \n",
       "4      Manchester City  ...      88.0    68.0           58.0           51.0   \n",
       "5              Chelsea  ...      91.0    34.0           27.0           22.0   \n",
       "6          Real Madrid  ...      84.0    60.0           76.0           73.0   \n",
       "7         FC Barcelona  ...      85.0    62.0           45.0           38.0   \n",
       "8          Real Madrid  ...      82.0    87.0           92.0           91.0   \n",
       "9     AtlÃ©tico Madrid  ...      70.0    27.0           12.0           18.0   \n",
       "\n",
       "  GKDiving  GKHandling  GKKicking  GKPositioning GKReflexes Release Clause  \n",
       "0      6.0        11.0       15.0           14.0        8.0      â¬226.5M  \n",
       "1      7.0        11.0       15.0           14.0       11.0      â¬127.1M  \n",
       "2      9.0         9.0       15.0           15.0       11.0      â¬228.1M  \n",
       "3     90.0        85.0       87.0           88.0       94.0      â¬138.6M  \n",
       "4     15.0        13.0        5.0           10.0       13.0      â¬196.4M  \n",
       "5     11.0        12.0        6.0            8.0        8.0      â¬172.1M  \n",
       "6     13.0         9.0        7.0           14.0        9.0      â¬137.4M  \n",
       "7     27.0        25.0       31.0           33.0       37.0        â¬164M  \n",
       "8     11.0         8.0        9.0            7.0       11.0      â¬104.6M  \n",
       "9     86.0        92.0       78.0           88.0       89.0      â¬144.5M  \n",
       "\n",
       "[10 rows x 89 columns]"
      ]
     },
     "execution_count": 2,
     "metadata": {},
     "output_type": "execute_result"
    }
   ],
   "source": [
    "data = pd.read_csv(\"data.csv\", sep = \",\", encoding = 'latin1')\n",
    "data.head(10)"
   ]
  },
  {
   "cell_type": "code",
   "execution_count": null,
   "id": "658790ae",
   "metadata": {},
   "outputs": [],
   "source": []
  },
  {
   "cell_type": "code",
   "execution_count": 3,
   "id": "299cf0e2",
   "metadata": {},
   "outputs": [],
   "source": [
    "df = data.drop(['ï»¿','ID','Photo','Flag','Club Logo','Real Face','Jersey Number','Loaned From']\n",
    ", axis=1)"
   ]
  },
  {
   "cell_type": "code",
   "execution_count": 4,
   "id": "795b5f38",
   "metadata": {},
   "outputs": [
    {
     "name": "stdout",
     "output_type": "stream",
     "text": [
      "60\n"
     ]
    }
   ],
   "source": [
    "print(df['Position'].isnull().sum())"
   ]
  },
  {
   "cell_type": "code",
   "execution_count": 5,
   "id": "3f4420ec",
   "metadata": {},
   "outputs": [],
   "source": [
    "df['Posicion'] = df['Position']"
   ]
  },
  {
   "cell_type": "code",
   "execution_count": 6,
   "id": "9d41128e",
   "metadata": {},
   "outputs": [
    {
     "name": "stdout",
     "output_type": "stream",
     "text": [
      "<class 'pandas.core.frame.DataFrame'>\n",
      "RangeIndex: 18207 entries, 0 to 18206\n",
      "Data columns (total 82 columns):\n",
      " #   Column                    Non-Null Count  Dtype  \n",
      "---  ------                    --------------  -----  \n",
      " 0   Name                      18207 non-null  object \n",
      " 1   Age                       18207 non-null  int64  \n",
      " 2   Nationality               18207 non-null  object \n",
      " 3   Overall                   18207 non-null  int64  \n",
      " 4   Potential                 18207 non-null  int64  \n",
      " 5   Club                      17966 non-null  object \n",
      " 6   Value                     18207 non-null  object \n",
      " 7   Wage                      18207 non-null  object \n",
      " 8   Special                   18207 non-null  int64  \n",
      " 9   Preferred Foot            18159 non-null  object \n",
      " 10  International Reputation  18159 non-null  float64\n",
      " 11  Weak Foot                 18159 non-null  float64\n",
      " 12  Skill Moves               18159 non-null  float64\n",
      " 13  Work Rate                 18159 non-null  object \n",
      " 14  Body Type                 18159 non-null  object \n",
      " 15  Position                  18147 non-null  object \n",
      " 16  Joined                    16654 non-null  object \n",
      " 17  Contract Valid Until      17918 non-null  object \n",
      " 18  Height                    18159 non-null  object \n",
      " 19  Weight                    18159 non-null  object \n",
      " 20  LS                        16122 non-null  object \n",
      " 21  ST                        16122 non-null  object \n",
      " 22  RS                        16122 non-null  object \n",
      " 23  LW                        16122 non-null  object \n",
      " 24  LF                        16122 non-null  object \n",
      " 25  CF                        16122 non-null  object \n",
      " 26  RF                        16122 non-null  object \n",
      " 27  RW                        16122 non-null  object \n",
      " 28  LAM                       16122 non-null  object \n",
      " 29  CAM                       16122 non-null  object \n",
      " 30  RAM                       16122 non-null  object \n",
      " 31  LM                        16122 non-null  object \n",
      " 32  LCM                       16122 non-null  object \n",
      " 33  CM                        16122 non-null  object \n",
      " 34  RCM                       16122 non-null  object \n",
      " 35  RM                        16122 non-null  object \n",
      " 36  LWB                       16122 non-null  object \n",
      " 37  LDM                       16122 non-null  object \n",
      " 38  CDM                       16122 non-null  object \n",
      " 39  RDM                       16122 non-null  object \n",
      " 40  RWB                       16122 non-null  object \n",
      " 41  LB                        16122 non-null  object \n",
      " 42  LCB                       16122 non-null  object \n",
      " 43  CB                        16122 non-null  object \n",
      " 44  RCB                       16122 non-null  object \n",
      " 45  RB                        16122 non-null  object \n",
      " 46  Crossing                  18159 non-null  float64\n",
      " 47  Finishing                 18159 non-null  float64\n",
      " 48  HeadingAccuracy           18159 non-null  float64\n",
      " 49  ShortPassing              18159 non-null  float64\n",
      " 50  Volleys                   18159 non-null  float64\n",
      " 51  Dribbling                 18159 non-null  float64\n",
      " 52  Curve                     18159 non-null  float64\n",
      " 53  FKAccuracy                18159 non-null  float64\n",
      " 54  LongPassing               18159 non-null  float64\n",
      " 55  BallControl               18159 non-null  float64\n",
      " 56  Acceleration              18159 non-null  float64\n",
      " 57  SprintSpeed               18159 non-null  float64\n",
      " 58  Agility                   18159 non-null  float64\n",
      " 59  Reactions                 18159 non-null  float64\n",
      " 60  Balance                   18159 non-null  float64\n",
      " 61  ShotPower                 18159 non-null  float64\n",
      " 62  Jumping                   18159 non-null  float64\n",
      " 63  Stamina                   18159 non-null  float64\n",
      " 64  Strength                  18159 non-null  float64\n",
      " 65  LongShots                 18159 non-null  float64\n",
      " 66  Aggression                18159 non-null  float64\n",
      " 67  Interceptions             18159 non-null  float64\n",
      " 68  Positioning               18159 non-null  float64\n",
      " 69  Vision                    18159 non-null  float64\n",
      " 70  Penalties                 18159 non-null  float64\n",
      " 71  Composure                 18159 non-null  float64\n",
      " 72  Marking                   18159 non-null  float64\n",
      " 73  StandingTackle            18159 non-null  float64\n",
      " 74  SlidingTackle             18159 non-null  float64\n",
      " 75  GKDiving                  18159 non-null  float64\n",
      " 76  GKHandling                18159 non-null  float64\n",
      " 77  GKKicking                 18159 non-null  float64\n",
      " 78  GKPositioning             18159 non-null  float64\n",
      " 79  GKReflexes                18159 non-null  float64\n",
      " 80  Release Clause            16643 non-null  object \n",
      " 81  Posicion                  18147 non-null  object \n",
      "dtypes: float64(37), int64(4), object(41)\n",
      "memory usage: 11.4+ MB\n"
     ]
    }
   ],
   "source": [
    "df.info()"
   ]
  },
  {
   "cell_type": "code",
   "execution_count": 7,
   "id": "d86a8afd",
   "metadata": {},
   "outputs": [],
   "source": [
    "def simple_position(x):\n",
    "    if (x == 'GK'):\n",
    "        return 'Arquero'\n",
    "    elif ((x == 'RB') | (x == 'LB') | (x == 'CB') | (x == 'LCB') | (x == 'RCB') | (x == 'RWB') | (x == 'LWB') ):\n",
    "        return 'Defensor'\n",
    "    elif ((x == 'LDM') | (x == 'CDM') | (x == 'RDM') | (x == 'LM') | (x == 'LCM') | (x == 'CM') | (x == 'RCM') | (x == 'RM') | (x == 'LAM') | (x == 'CAM') | (x == 'RAM') | (x == 'LW') | (x == 'RW')):\n",
    "        return 'Volante'\n",
    "    elif ((x == 'RS') | (x == 'ST') | (x == 'LS') | (x == 'CF') | (x == 'LF') | (x == 'RF')):\n",
    "        return 'Delantero'\n"
   ]
  },
  {
   "cell_type": "code",
   "execution_count": 8,
   "id": "d95b71d4",
   "metadata": {},
   "outputs": [],
   "source": [
    "df['Position2'] = df.Position.apply(lambda x: simple_position(x))"
   ]
  },
  {
   "cell_type": "code",
   "execution_count": 9,
   "id": "0c5c196b",
   "metadata": {},
   "outputs": [
    {
     "data": {
      "text/plain": [
       "Volante      7589\n",
       "Defensor     5866\n",
       "Delantero    2667\n",
       "Arquero      2025\n",
       "Name: Position2, dtype: int64"
      ]
     },
     "execution_count": 9,
     "metadata": {},
     "output_type": "execute_result"
    }
   ],
   "source": [
    "df['Position2'].value_counts()"
   ]
  },
  {
   "cell_type": "code",
   "execution_count": 10,
   "id": "fb2782a7",
   "metadata": {},
   "outputs": [
    {
     "data": {
      "text/plain": [
       "Index(['Name', 'Age', 'Nationality', 'Overall', 'Potential', 'Club', 'Value',\n",
       "       'Wage', 'Special', 'Preferred Foot', 'International Reputation',\n",
       "       'Weak Foot', 'Skill Moves', 'Work Rate', 'Body Type', 'Position',\n",
       "       'Joined', 'Contract Valid Until', 'Height', 'Weight', 'LS', 'ST', 'RS',\n",
       "       'LW', 'LF', 'CF', 'RF', 'RW', 'LAM', 'CAM', 'RAM', 'LM', 'LCM', 'CM',\n",
       "       'RCM', 'RM', 'LWB', 'LDM', 'CDM', 'RDM', 'RWB', 'LB', 'LCB', 'CB',\n",
       "       'RCB', 'RB', 'Crossing', 'Finishing', 'HeadingAccuracy', 'ShortPassing',\n",
       "       'Volleys', 'Dribbling', 'Curve', 'FKAccuracy', 'LongPassing',\n",
       "       'BallControl', 'Acceleration', 'SprintSpeed', 'Agility', 'Reactions',\n",
       "       'Balance', 'ShotPower', 'Jumping', 'Stamina', 'Strength', 'LongShots',\n",
       "       'Aggression', 'Interceptions', 'Positioning', 'Vision', 'Penalties',\n",
       "       'Composure', 'Marking', 'StandingTackle', 'SlidingTackle', 'GKDiving',\n",
       "       'GKHandling', 'GKKicking', 'GKPositioning', 'GKReflexes',\n",
       "       'Release Clause', 'Posicion', 'Position2'],\n",
       "      dtype='object')"
      ]
     },
     "execution_count": 10,
     "metadata": {},
     "output_type": "execute_result"
    }
   ],
   "source": [
    "df.columns"
   ]
  },
  {
   "cell_type": "code",
   "execution_count": 11,
   "id": "b52ae164",
   "metadata": {},
   "outputs": [],
   "source": [
    "df = df.drop(['Posicion', 'Joined', 'LS', 'ST', 'RS',\n",
    "       'LW', 'LF', 'CF', 'RF', 'RW', 'LAM', 'CAM', 'RAM', 'LM', 'LCM', 'CM',\n",
    "       'RCM', 'RM', 'LWB', 'LDM', 'CDM', 'RDM', 'RWB', 'LB', 'LCB', 'CB',\n",
    "       'RCB', 'RB', 'Contract Valid Until'], axis= 1)"
   ]
  },
  {
   "cell_type": "code",
   "execution_count": 12,
   "id": "2a8a2bec",
   "metadata": {},
   "outputs": [
    {
     "data": {
      "text/plain": [
       "Name                          0\n",
       "Age                           0\n",
       "Nationality                   0\n",
       "Overall                       0\n",
       "Potential                     0\n",
       "Club                        241\n",
       "Value                         0\n",
       "Wage                          0\n",
       "Special                       0\n",
       "Preferred Foot               48\n",
       "International Reputation     48\n",
       "Weak Foot                    48\n",
       "Skill Moves                  48\n",
       "Work Rate                    48\n",
       "Body Type                    48\n",
       "Position                     60\n",
       "Height                       48\n",
       "Weight                       48\n",
       "Crossing                     48\n",
       "Finishing                    48\n",
       "HeadingAccuracy              48\n",
       "ShortPassing                 48\n",
       "Volleys                      48\n",
       "Dribbling                    48\n",
       "Curve                        48\n",
       "FKAccuracy                   48\n",
       "LongPassing                  48\n",
       "BallControl                  48\n",
       "Acceleration                 48\n",
       "SprintSpeed                  48\n",
       "Agility                      48\n",
       "Reactions                    48\n",
       "Balance                      48\n",
       "ShotPower                    48\n",
       "Jumping                      48\n",
       "Stamina                      48\n",
       "Strength                     48\n",
       "LongShots                    48\n",
       "Aggression                   48\n",
       "Interceptions                48\n",
       "Positioning                  48\n",
       "Vision                       48\n",
       "Penalties                    48\n",
       "Composure                    48\n",
       "Marking                      48\n",
       "StandingTackle               48\n",
       "SlidingTackle                48\n",
       "GKDiving                     48\n",
       "GKHandling                   48\n",
       "GKKicking                    48\n",
       "dtype: int64"
      ]
     },
     "execution_count": 12,
     "metadata": {},
     "output_type": "execute_result"
    }
   ],
   "source": [
    "df.isnull().sum().head(50)"
   ]
  },
  {
   "cell_type": "code",
   "execution_count": 13,
   "id": "f0015719",
   "metadata": {},
   "outputs": [],
   "source": [
    "mascara_nulos = df['Vision'].isnull()"
   ]
  },
  {
   "cell_type": "code",
   "execution_count": 14,
   "id": "44d01d63",
   "metadata": {},
   "outputs": [
    {
     "data": {
      "text/plain": [
       "(18207, 54)"
      ]
     },
     "execution_count": 14,
     "metadata": {},
     "output_type": "execute_result"
    }
   ],
   "source": [
    "df.shape"
   ]
  },
  {
   "cell_type": "code",
   "execution_count": 15,
   "id": "317ae833",
   "metadata": {},
   "outputs": [],
   "source": [
    "df = df.dropna()"
   ]
  },
  {
   "cell_type": "code",
   "execution_count": 16,
   "id": "e1c7c86c",
   "metadata": {},
   "outputs": [
    {
     "data": {
      "text/plain": [
       "(16643, 54)"
      ]
     },
     "execution_count": 16,
     "metadata": {},
     "output_type": "execute_result"
    }
   ],
   "source": [
    "df.shape"
   ]
  },
  {
   "cell_type": "code",
   "execution_count": 17,
   "id": "72f98919",
   "metadata": {},
   "outputs": [],
   "source": [
    "dummy = pd.get_dummies(df['Position2'])\n",
    "df = pd.concat([df, dummy], axis=1)"
   ]
  },
  {
   "cell_type": "code",
   "execution_count": 18,
   "id": "a8d85cd1",
   "metadata": {},
   "outputs": [
    {
     "data": {
      "text/html": [
       "<div>\n",
       "<style scoped>\n",
       "    .dataframe tbody tr th:only-of-type {\n",
       "        vertical-align: middle;\n",
       "    }\n",
       "\n",
       "    .dataframe tbody tr th {\n",
       "        vertical-align: top;\n",
       "    }\n",
       "\n",
       "    .dataframe thead th {\n",
       "        text-align: right;\n",
       "    }\n",
       "</style>\n",
       "<table border=\"1\" class=\"dataframe\">\n",
       "  <thead>\n",
       "    <tr style=\"text-align: right;\">\n",
       "      <th></th>\n",
       "      <th>Name</th>\n",
       "      <th>Age</th>\n",
       "      <th>Nationality</th>\n",
       "      <th>Overall</th>\n",
       "      <th>Potential</th>\n",
       "      <th>Club</th>\n",
       "      <th>Value</th>\n",
       "      <th>Wage</th>\n",
       "      <th>Special</th>\n",
       "      <th>Preferred Foot</th>\n",
       "      <th>...</th>\n",
       "      <th>GKHandling</th>\n",
       "      <th>GKKicking</th>\n",
       "      <th>GKPositioning</th>\n",
       "      <th>GKReflexes</th>\n",
       "      <th>Release Clause</th>\n",
       "      <th>Position2</th>\n",
       "      <th>Arquero</th>\n",
       "      <th>Defensor</th>\n",
       "      <th>Delantero</th>\n",
       "      <th>Volante</th>\n",
       "    </tr>\n",
       "  </thead>\n",
       "  <tbody>\n",
       "    <tr>\n",
       "      <th>0</th>\n",
       "      <td>L. Messi</td>\n",
       "      <td>31</td>\n",
       "      <td>Argentina</td>\n",
       "      <td>94</td>\n",
       "      <td>94</td>\n",
       "      <td>FC Barcelona</td>\n",
       "      <td>â¬110.5M</td>\n",
       "      <td>â¬565K</td>\n",
       "      <td>2202</td>\n",
       "      <td>Left</td>\n",
       "      <td>...</td>\n",
       "      <td>11.0</td>\n",
       "      <td>15.0</td>\n",
       "      <td>14.0</td>\n",
       "      <td>8.0</td>\n",
       "      <td>â¬226.5M</td>\n",
       "      <td>Delantero</td>\n",
       "      <td>0</td>\n",
       "      <td>0</td>\n",
       "      <td>1</td>\n",
       "      <td>0</td>\n",
       "    </tr>\n",
       "    <tr>\n",
       "      <th>1</th>\n",
       "      <td>Cristiano Ronaldo</td>\n",
       "      <td>33</td>\n",
       "      <td>Portugal</td>\n",
       "      <td>94</td>\n",
       "      <td>94</td>\n",
       "      <td>Juventus</td>\n",
       "      <td>â¬77M</td>\n",
       "      <td>â¬405K</td>\n",
       "      <td>2228</td>\n",
       "      <td>Right</td>\n",
       "      <td>...</td>\n",
       "      <td>11.0</td>\n",
       "      <td>15.0</td>\n",
       "      <td>14.0</td>\n",
       "      <td>11.0</td>\n",
       "      <td>â¬127.1M</td>\n",
       "      <td>Delantero</td>\n",
       "      <td>0</td>\n",
       "      <td>0</td>\n",
       "      <td>1</td>\n",
       "      <td>0</td>\n",
       "    </tr>\n",
       "    <tr>\n",
       "      <th>2</th>\n",
       "      <td>Neymar Jr</td>\n",
       "      <td>26</td>\n",
       "      <td>Brazil</td>\n",
       "      <td>92</td>\n",
       "      <td>93</td>\n",
       "      <td>Paris Saint-Germain</td>\n",
       "      <td>â¬118.5M</td>\n",
       "      <td>â¬290K</td>\n",
       "      <td>2143</td>\n",
       "      <td>Right</td>\n",
       "      <td>...</td>\n",
       "      <td>9.0</td>\n",
       "      <td>15.0</td>\n",
       "      <td>15.0</td>\n",
       "      <td>11.0</td>\n",
       "      <td>â¬228.1M</td>\n",
       "      <td>Volante</td>\n",
       "      <td>0</td>\n",
       "      <td>0</td>\n",
       "      <td>0</td>\n",
       "      <td>1</td>\n",
       "    </tr>\n",
       "    <tr>\n",
       "      <th>3</th>\n",
       "      <td>De Gea</td>\n",
       "      <td>27</td>\n",
       "      <td>Spain</td>\n",
       "      <td>91</td>\n",
       "      <td>93</td>\n",
       "      <td>Manchester United</td>\n",
       "      <td>â¬72M</td>\n",
       "      <td>â¬260K</td>\n",
       "      <td>1471</td>\n",
       "      <td>Right</td>\n",
       "      <td>...</td>\n",
       "      <td>85.0</td>\n",
       "      <td>87.0</td>\n",
       "      <td>88.0</td>\n",
       "      <td>94.0</td>\n",
       "      <td>â¬138.6M</td>\n",
       "      <td>Arquero</td>\n",
       "      <td>1</td>\n",
       "      <td>0</td>\n",
       "      <td>0</td>\n",
       "      <td>0</td>\n",
       "    </tr>\n",
       "    <tr>\n",
       "      <th>4</th>\n",
       "      <td>K. De Bruyne</td>\n",
       "      <td>27</td>\n",
       "      <td>Belgium</td>\n",
       "      <td>91</td>\n",
       "      <td>92</td>\n",
       "      <td>Manchester City</td>\n",
       "      <td>â¬102M</td>\n",
       "      <td>â¬355K</td>\n",
       "      <td>2281</td>\n",
       "      <td>Right</td>\n",
       "      <td>...</td>\n",
       "      <td>13.0</td>\n",
       "      <td>5.0</td>\n",
       "      <td>10.0</td>\n",
       "      <td>13.0</td>\n",
       "      <td>â¬196.4M</td>\n",
       "      <td>Volante</td>\n",
       "      <td>0</td>\n",
       "      <td>0</td>\n",
       "      <td>0</td>\n",
       "      <td>1</td>\n",
       "    </tr>\n",
       "  </tbody>\n",
       "</table>\n",
       "<p>5 rows × 58 columns</p>\n",
       "</div>"
      ],
      "text/plain": [
       "                Name  Age Nationality  Overall  Potential  \\\n",
       "0           L. Messi   31   Argentina       94         94   \n",
       "1  Cristiano Ronaldo   33    Portugal       94         94   \n",
       "2          Neymar Jr   26      Brazil       92         93   \n",
       "3             De Gea   27       Spain       91         93   \n",
       "4       K. De Bruyne   27     Belgium       91         92   \n",
       "\n",
       "                  Club      Value     Wage  Special Preferred Foot  ...  \\\n",
       "0         FC Barcelona  â¬110.5M  â¬565K     2202           Left  ...   \n",
       "1             Juventus     â¬77M  â¬405K     2228          Right  ...   \n",
       "2  Paris Saint-Germain  â¬118.5M  â¬290K     2143          Right  ...   \n",
       "3    Manchester United     â¬72M  â¬260K     1471          Right  ...   \n",
       "4      Manchester City    â¬102M  â¬355K     2281          Right  ...   \n",
       "\n",
       "   GKHandling  GKKicking  GKPositioning GKReflexes Release Clause  Position2  \\\n",
       "0        11.0       15.0           14.0        8.0      â¬226.5M  Delantero   \n",
       "1        11.0       15.0           14.0       11.0      â¬127.1M  Delantero   \n",
       "2         9.0       15.0           15.0       11.0      â¬228.1M    Volante   \n",
       "3        85.0       87.0           88.0       94.0      â¬138.6M    Arquero   \n",
       "4        13.0        5.0           10.0       13.0      â¬196.4M    Volante   \n",
       "\n",
       "  Arquero Defensor  Delantero  Volante  \n",
       "0       0        0          1        0  \n",
       "1       0        0          1        0  \n",
       "2       0        0          0        1  \n",
       "3       1        0          0        0  \n",
       "4       0        0          0        1  \n",
       "\n",
       "[5 rows x 58 columns]"
      ]
     },
     "execution_count": 18,
     "metadata": {},
     "output_type": "execute_result"
    }
   ],
   "source": [
    "df.head(5)"
   ]
  },
  {
   "cell_type": "markdown",
   "id": "e6050f42",
   "metadata": {},
   "source": [
    "def clean_weight(x):\n",
    "    \n",
    "    if isinstance(x,str):\n",
    "        return(x.replace('lbs', ''))\n",
    "    return(x)\n",
    "\n",
    "df['Weight'] = df['Weight'].apply(clean_weight).astype('float')\n",
    "#fifa['Weight'].fillna((fifa['Weight'].mean()), inplace = True)\n",
    "\n",
    "def clean_height(x):\n",
    "    l=[]\n",
    "    s=1\n",
    "    if isinstance(x,str):\n",
    "        l=x.split(\"'\")\n",
    "        i=int(l[0])\n",
    "        j=int(l[1])\n",
    "        s=((i*12)+j)/12\n",
    "    return(s)\n",
    "\n",
    "\n",
    "df['Height'] = df['Height'].apply(clean_height)\n",
    "#fifa['Height'].fillna((fifa['Height'].mean()), inplace = True)\n",
    "\n",
    "def value_and_wage_conversion(Value):\n",
    "    if isinstance(Value,str):\n",
    "        out = Value.replace('€', '')\n",
    "        if 'M' in out:\n",
    "            out = float(out.replace('M', ''))*1000000\n",
    "        elif 'K' in Value:\n",
    "            out = float(out.replace('K', ''))*1000\n",
    "        return float(out)\n",
    "\n",
    "\n",
    "#df['Value'] = df['Value'].apply(lambda x: value_and_wage_conversion(x))\n",
    "#df['Wage'] = df['Wage'].apply(lambda x: value_and_wage_conversion(x))\n",
    "#df['Release Clause'] = df['Release Clause'].apply(lambda x: value_and_wage_conversion(x))\n",
    "#fifa['Release Clause'].fillna(fifa['Release Clause'].mean(), inplace = True)\n"
   ]
  },
  {
   "cell_type": "code",
   "execution_count": null,
   "id": "12b0bc89",
   "metadata": {},
   "outputs": [],
   "source": []
  },
  {
   "cell_type": "code",
   "execution_count": 19,
   "id": "7d1cbee4",
   "metadata": {},
   "outputs": [],
   "source": [
    "df['Weight'] = df['Weight'].str.replace('lbs','')"
   ]
  },
  {
   "cell_type": "code",
   "execution_count": 20,
   "id": "3a1f7e07",
   "metadata": {},
   "outputs": [
    {
     "data": {
      "text/plain": [
       "165    1380\n",
       "154    1310\n",
       "176     955\n",
       "172     892\n",
       "159     861\n",
       "161     854\n",
       "163     818\n",
       "170     791\n",
       "168     771\n",
       "174     657\n",
       "150     621\n",
       "157     561\n",
       "181     529\n",
       "183     484\n",
       "152     464\n",
       "179     464\n",
       "143     453\n",
       "187     404\n",
       "148     396\n",
       "185     394\n",
       "146     329\n",
       "141     299\n",
       "190     263\n",
       "194     262\n",
       "139     191\n",
       "192     180\n",
       "137     157\n",
       "198     137\n",
       "196     132\n",
       "132     112\n",
       "201      84\n",
       "134      78\n",
       "203      69\n",
       "205      55\n",
       "207      43\n",
       "209      30\n",
       "128      29\n",
       "130      27\n",
       "212      21\n",
       "123      18\n",
       "126      14\n",
       "214      10\n",
       "121       8\n",
       "216       7\n",
       "117       6\n",
       "119       4\n",
       "218       4\n",
       "223       3\n",
       "110       2\n",
       "236       2\n",
       "225       2\n",
       "220       1\n",
       "227       1\n",
       "115       1\n",
       "243       1\n",
       "234       1\n",
       "229       1\n",
       "Name: Weight, dtype: int64"
      ]
     },
     "execution_count": 20,
     "metadata": {},
     "output_type": "execute_result"
    }
   ],
   "source": [
    "df['Weight'].value_counts()"
   ]
  },
  {
   "cell_type": "code",
   "execution_count": 21,
   "id": "5c94ed28",
   "metadata": {},
   "outputs": [],
   "source": [
    "df['Weight'] = df['Weight'].astype(np.int)"
   ]
  },
  {
   "cell_type": "code",
   "execution_count": 22,
   "id": "1fb569ca",
   "metadata": {},
   "outputs": [
    {
     "data": {
      "text/plain": [
       "<bound method IndexOpsMixin.value_counts of 0        159\n",
       "1        183\n",
       "2        150\n",
       "3        168\n",
       "4        154\n",
       "        ... \n",
       "18202    134\n",
       "18203    170\n",
       "18204    148\n",
       "18205    154\n",
       "18206    176\n",
       "Name: Weight, Length: 16643, dtype: int32>"
      ]
     },
     "execution_count": 22,
     "metadata": {},
     "output_type": "execute_result"
    }
   ],
   "source": [
    "df['Weight'].value_counts"
   ]
  },
  {
   "cell_type": "code",
   "execution_count": 23,
   "id": "91ec1528",
   "metadata": {},
   "outputs": [],
   "source": [
    "df['Value'] = df['Value'].str.replace('€','')"
   ]
  },
  {
   "cell_type": "code",
   "execution_count": 24,
   "id": "7094e60a",
   "metadata": {},
   "outputs": [
    {
     "name": "stdout",
     "output_type": "stream",
     "text": [
      "<class 'pandas.core.frame.DataFrame'>\n",
      "Int64Index: 16643 entries, 0 to 18206\n",
      "Data columns (total 58 columns):\n",
      " #   Column                    Non-Null Count  Dtype  \n",
      "---  ------                    --------------  -----  \n",
      " 0   Name                      16643 non-null  object \n",
      " 1   Age                       16643 non-null  int64  \n",
      " 2   Nationality               16643 non-null  object \n",
      " 3   Overall                   16643 non-null  int64  \n",
      " 4   Potential                 16643 non-null  int64  \n",
      " 5   Club                      16643 non-null  object \n",
      " 6   Value                     16643 non-null  object \n",
      " 7   Wage                      16643 non-null  object \n",
      " 8   Special                   16643 non-null  int64  \n",
      " 9   Preferred Foot            16643 non-null  object \n",
      " 10  International Reputation  16643 non-null  float64\n",
      " 11  Weak Foot                 16643 non-null  float64\n",
      " 12  Skill Moves               16643 non-null  float64\n",
      " 13  Work Rate                 16643 non-null  object \n",
      " 14  Body Type                 16643 non-null  object \n",
      " 15  Position                  16643 non-null  object \n",
      " 16  Height                    16643 non-null  object \n",
      " 17  Weight                    16643 non-null  int32  \n",
      " 18  Crossing                  16643 non-null  float64\n",
      " 19  Finishing                 16643 non-null  float64\n",
      " 20  HeadingAccuracy           16643 non-null  float64\n",
      " 21  ShortPassing              16643 non-null  float64\n",
      " 22  Volleys                   16643 non-null  float64\n",
      " 23  Dribbling                 16643 non-null  float64\n",
      " 24  Curve                     16643 non-null  float64\n",
      " 25  FKAccuracy                16643 non-null  float64\n",
      " 26  LongPassing               16643 non-null  float64\n",
      " 27  BallControl               16643 non-null  float64\n",
      " 28  Acceleration              16643 non-null  float64\n",
      " 29  SprintSpeed               16643 non-null  float64\n",
      " 30  Agility                   16643 non-null  float64\n",
      " 31  Reactions                 16643 non-null  float64\n",
      " 32  Balance                   16643 non-null  float64\n",
      " 33  ShotPower                 16643 non-null  float64\n",
      " 34  Jumping                   16643 non-null  float64\n",
      " 35  Stamina                   16643 non-null  float64\n",
      " 36  Strength                  16643 non-null  float64\n",
      " 37  LongShots                 16643 non-null  float64\n",
      " 38  Aggression                16643 non-null  float64\n",
      " 39  Interceptions             16643 non-null  float64\n",
      " 40  Positioning               16643 non-null  float64\n",
      " 41  Vision                    16643 non-null  float64\n",
      " 42  Penalties                 16643 non-null  float64\n",
      " 43  Composure                 16643 non-null  float64\n",
      " 44  Marking                   16643 non-null  float64\n",
      " 45  StandingTackle            16643 non-null  float64\n",
      " 46  SlidingTackle             16643 non-null  float64\n",
      " 47  GKDiving                  16643 non-null  float64\n",
      " 48  GKHandling                16643 non-null  float64\n",
      " 49  GKKicking                 16643 non-null  float64\n",
      " 50  GKPositioning             16643 non-null  float64\n",
      " 51  GKReflexes                16643 non-null  float64\n",
      " 52  Release Clause            16643 non-null  object \n",
      " 53  Position2                 16643 non-null  object \n",
      " 54  Arquero                   16643 non-null  uint8  \n",
      " 55  Defensor                  16643 non-null  uint8  \n",
      " 56  Delantero                 16643 non-null  uint8  \n",
      " 57  Volante                   16643 non-null  uint8  \n",
      "dtypes: float64(37), int32(1), int64(4), object(12), uint8(4)\n",
      "memory usage: 7.0+ MB\n"
     ]
    }
   ],
   "source": [
    "df.info()"
   ]
  },
  {
   "cell_type": "code",
   "execution_count": 25,
   "id": "5c38c960",
   "metadata": {},
   "outputs": [
    {
     "data": {
      "text/plain": [
       "Index(['Name', 'Age', 'Nationality', 'Overall', 'Potential', 'Club', 'Value',\n",
       "       'Wage', 'Special', 'Preferred Foot', 'International Reputation',\n",
       "       'Weak Foot', 'Skill Moves', 'Work Rate', 'Body Type', 'Position',\n",
       "       'Height', 'Weight', 'Crossing', 'Finishing', 'HeadingAccuracy',\n",
       "       'ShortPassing', 'Volleys', 'Dribbling', 'Curve', 'FKAccuracy',\n",
       "       'LongPassing', 'BallControl', 'Acceleration', 'SprintSpeed', 'Agility',\n",
       "       'Reactions', 'Balance', 'ShotPower', 'Jumping', 'Stamina', 'Strength',\n",
       "       'LongShots', 'Aggression', 'Interceptions', 'Positioning', 'Vision',\n",
       "       'Penalties', 'Composure', 'Marking', 'StandingTackle', 'SlidingTackle',\n",
       "       'GKDiving', 'GKHandling', 'GKKicking', 'GKPositioning', 'GKReflexes',\n",
       "       'Release Clause', 'Position2', 'Arquero', 'Defensor', 'Delantero',\n",
       "       'Volante'],\n",
       "      dtype='object')"
      ]
     },
     "execution_count": 25,
     "metadata": {},
     "output_type": "execute_result"
    }
   ],
   "source": [
    "df.columns"
   ]
  },
  {
   "cell_type": "code",
   "execution_count": 26,
   "id": "60ecec0b",
   "metadata": {},
   "outputs": [],
   "source": [
    "train_cols = ['Overall', 'Potential', 'Special', 'International Reputation',\n",
    "       'Weak Foot', 'Skill Moves', 'Weight', 'Crossing', 'Finishing', 'HeadingAccuracy',\n",
    "       'ShortPassing', 'Volleys', 'Dribbling', 'Curve', 'FKAccuracy','LongPassing', 'BallControl', 'Acceleration', 'SprintSpeed', 'Agility',\n",
    "       'Reactions', 'Balance', 'ShotPower', 'Jumping', 'Stamina', 'Strength','LongShots', 'Aggression', 'Interceptions', 'Positioning', 'Vision',\n",
    "       'Penalties', 'Composure', 'Marking', 'StandingTackle', 'SlidingTackle','GKDiving', 'GKHandling', 'GKKicking', 'GKPositioning', 'GKReflexes']\n",
    "X = df[train_cols]\n",
    "y = df['Position2']"
   ]
  },
  {
   "cell_type": "code",
   "execution_count": 27,
   "id": "c970694b",
   "metadata": {},
   "outputs": [],
   "source": [
    "X_train, X_test, y_train, y_test = train_test_split(X, y, test_size=0.33, random_state=42)"
   ]
  },
  {
   "cell_type": "code",
   "execution_count": 28,
   "id": "c3517dd6",
   "metadata": {},
   "outputs": [],
   "source": [
    "#X['Body Type'].head(20)"
   ]
  },
  {
   "cell_type": "markdown",
   "id": "d8c24008",
   "metadata": {},
   "source": [
    "Utilizamos sklearn para standarizar la matriz de Features"
   ]
  },
  {
   "cell_type": "code",
   "execution_count": 29,
   "id": "fc390bed",
   "metadata": {},
   "outputs": [],
   "source": [
    "scaler = StandardScaler()\n",
    "X_train = scaler.fit_transform(X_train)\n",
    "X_test = scaler.transform(X_test)"
   ]
  },
  {
   "cell_type": "code",
   "execution_count": null,
   "id": "224e33a4",
   "metadata": {},
   "outputs": [],
   "source": []
  },
  {
   "cell_type": "code",
   "execution_count": 30,
   "id": "fde46c3d",
   "metadata": {},
   "outputs": [],
   "source": [
    "clf = LogisticRegression(C=1e10,solver='lbfgs')"
   ]
  },
  {
   "cell_type": "markdown",
   "id": "1a61d57e",
   "metadata": {},
   "source": [
    "Entrenamos y aplicamos nuestro modelo sobre datos de test"
   ]
  },
  {
   "cell_type": "code",
   "execution_count": 31,
   "id": "08812a6e",
   "metadata": {},
   "outputs": [
    {
     "name": "stderr",
     "output_type": "stream",
     "text": [
      "C:\\Users\\Agustin\\anaconda3\\envs\\dhdsblend2021\\lib\\site-packages\\sklearn\\linear_model\\_logistic.py:762: ConvergenceWarning: lbfgs failed to converge (status=1):\n",
      "STOP: TOTAL NO. of ITERATIONS REACHED LIMIT.\n",
      "\n",
      "Increase the number of iterations (max_iter) or scale the data as shown in:\n",
      "    https://scikit-learn.org/stable/modules/preprocessing.html\n",
      "Please also refer to the documentation for alternative solver options:\n",
      "    https://scikit-learn.org/stable/modules/linear_model.html#logistic-regression\n",
      "  n_iter_i = _check_optimize_result(\n"
     ]
    },
    {
     "data": {
      "text/plain": [
       "LogisticRegression(C=10000000000.0)"
      ]
     },
     "execution_count": 31,
     "metadata": {},
     "output_type": "execute_result"
    }
   ],
   "source": [
    "clf.fit(X_train, y_train)"
   ]
  },
  {
   "cell_type": "code",
   "execution_count": 32,
   "id": "6e5f4f12",
   "metadata": {},
   "outputs": [],
   "source": [
    "y_pred = clf.predict(X_test)"
   ]
  },
  {
   "cell_type": "code",
   "execution_count": 33,
   "id": "87be9710",
   "metadata": {},
   "outputs": [
    {
     "name": "stdout",
     "output_type": "stream",
     "text": [
      "[[ 608    0    0    0]\n",
      " [   0 1647    2  147]\n",
      " [   0    2  672  116]\n",
      " [   0  129  101 2069]]\n"
     ]
    }
   ],
   "source": [
    "from sklearn.metrics import confusion_matrix\n",
    "confusion = confusion_matrix(y_test, y_pred)\n",
    "print(confusion)"
   ]
  },
  {
   "cell_type": "code",
   "execution_count": 34,
   "id": "cee796ef",
   "metadata": {},
   "outputs": [],
   "source": [
    "TP = confusion[1, 1]\n",
    "TN = confusion[0, 0]\n",
    "FP = confusion[0, 1]\n",
    "FN = confusion[1, 0]"
   ]
  },
  {
   "cell_type": "code",
   "execution_count": 35,
   "id": "317228fb",
   "metadata": {},
   "outputs": [
    {
     "name": "stdout",
     "output_type": "stream",
     "text": [
      "Accuracy= 0.91\n"
     ]
    }
   ],
   "source": [
    "from sklearn.metrics import accuracy_score\n",
    "print('Accuracy=', accuracy_score(y_test, y_pred).round(2))"
   ]
  },
  {
   "cell_type": "code",
   "execution_count": 36,
   "id": "3cc2c873",
   "metadata": {},
   "outputs": [
    {
     "data": {
      "text/plain": [
       "Volante      0.42\n",
       "Defensor     0.33\n",
       "Delantero    0.14\n",
       "Arquero      0.11\n",
       "Name: Position2, dtype: float64"
      ]
     },
     "execution_count": 36,
     "metadata": {},
     "output_type": "execute_result"
    }
   ],
   "source": [
    "y_test.value_counts(normalize=True).round(2)"
   ]
  },
  {
   "cell_type": "code",
   "execution_count": 37,
   "id": "6bc78c35",
   "metadata": {},
   "outputs": [
    {
     "data": {
      "text/plain": [
       "count        5493\n",
       "unique          4\n",
       "top       Volante\n",
       "freq         2299\n",
       "Name: Position2, dtype: object"
      ]
     },
     "execution_count": 37,
     "metadata": {},
     "output_type": "execute_result"
    }
   ],
   "source": [
    "y_test.describe()"
   ]
  },
  {
   "cell_type": "code",
   "execution_count": null,
   "id": "f4e2b0cc",
   "metadata": {},
   "outputs": [],
   "source": []
  },
  {
   "cell_type": "code",
   "execution_count": 38,
   "id": "bbf28830",
   "metadata": {},
   "outputs": [],
   "source": [
    "#1.0 - y_test.mean().round(3)"
   ]
  },
  {
   "cell_type": "code",
   "execution_count": 39,
   "id": "043ea7b7",
   "metadata": {},
   "outputs": [
    {
     "data": {
      "text/plain": [
       "array(['Arquero', 'Volante', 'Defensor', 'Delantero'], dtype=object)"
      ]
     },
     "execution_count": 39,
     "metadata": {},
     "output_type": "execute_result"
    }
   ],
   "source": [
    "pd.Series(y_pred).unique()"
   ]
  },
  {
   "cell_type": "code",
   "execution_count": 40,
   "id": "d5f6b472",
   "metadata": {},
   "outputs": [
    {
     "data": {
      "text/plain": [
       "Volante      2332\n",
       "Defensor     1778\n",
       "Delantero     775\n",
       "Arquero       608\n",
       "dtype: int64"
      ]
     },
     "execution_count": 40,
     "metadata": {},
     "output_type": "execute_result"
    }
   ],
   "source": [
    "pd.Series(y_pred).value_counts()"
   ]
  },
  {
   "cell_type": "code",
   "execution_count": 41,
   "id": "d0fc5a36",
   "metadata": {},
   "outputs": [],
   "source": [
    "y_pred_proba = clf.predict_proba(X_test)"
   ]
  },
  {
   "cell_type": "code",
   "execution_count": 42,
   "id": "9713e8c2",
   "metadata": {},
   "outputs": [
    {
     "data": {
      "text/plain": [
       "(5493, 4)"
      ]
     },
     "metadata": {},
     "output_type": "display_data"
    },
    {
     "data": {
      "text/plain": [
       "array([[1.00000000e+00, 2.01736676e-12, 9.17431763e-17, 7.96594646e-15],\n",
       "       [3.28829485e-06, 1.27290312e-01, 1.15270870e-05, 8.72694873e-01],\n",
       "       [5.39718444e-05, 2.18065881e-04, 3.46348613e-01, 6.53379350e-01],\n",
       "       ...,\n",
       "       [1.06667112e-06, 9.21126114e-01, 3.42252153e-06, 7.88693964e-02],\n",
       "       [8.28171602e-06, 1.45394456e-05, 9.96825584e-01, 3.15159451e-03],\n",
       "       [1.91561099e-06, 4.16428523e-02, 6.02601848e-03, 9.52329214e-01]])"
      ]
     },
     "metadata": {},
     "output_type": "display_data"
    }
   ],
   "source": [
    "display(y_pred_proba.shape, y_pred_proba)"
   ]
  },
  {
   "cell_type": "code",
   "execution_count": null,
   "id": "a940892b",
   "metadata": {},
   "outputs": [],
   "source": []
  },
  {
   "cell_type": "code",
   "execution_count": 43,
   "id": "e74bbbcd",
   "metadata": {},
   "outputs": [
    {
     "data": {
      "text/plain": [
       "False"
      ]
     },
     "execution_count": 43,
     "metadata": {},
     "output_type": "execute_result"
    }
   ],
   "source": [
    "all(pd.Series(y_pred_proba[:,1]>0.5).astype(int)==pd.Series(y_pred))"
   ]
  },
  {
   "cell_type": "code",
   "execution_count": 45,
   "id": "b576f31d",
   "metadata": {},
   "outputs": [
    {
     "name": "stderr",
     "output_type": "stream",
     "text": [
      "C:\\Users\\Agustin\\anaconda3\\envs\\dhdsblend2021\\lib\\site-packages\\sklearn\\utils\\validation.py:67: FutureWarning: Pass threshold=0.3 as keyword args. From version 0.25 passing these as positional arguments will result in an error\n",
      "  warnings.warn(\"Pass {} as keyword args. From version 0.25 \"\n"
     ]
    }
   ],
   "source": [
    "from sklearn.preprocessing import binarize\n",
    "y_pred_logit = binarize(y_pred_proba, 0.3)[:,1]"
   ]
  },
  {
   "cell_type": "code",
   "execution_count": 46,
   "id": "3a491e3c",
   "metadata": {},
   "outputs": [
    {
     "data": {
      "text/plain": [
       "array([0, 0, 0, ..., 1, 0, 0])"
      ]
     },
     "execution_count": 46,
     "metadata": {},
     "output_type": "execute_result"
    }
   ],
   "source": [
    "y_pred_logit = (y_probs_logit_left > 0.3).astype(int)\n",
    "y_pred_logit"
   ]
  },
  {
   "cell_type": "markdown",
   "id": "b39aa098",
   "metadata": {},
   "source": [
    "**Accuracy**"
   ]
  },
  {
   "cell_type": "code",
   "execution_count": 47,
   "id": "def79c2e",
   "metadata": {},
   "outputs": [
    {
     "name": "stdout",
     "output_type": "stream",
     "text": [
      "Acc umbral 0.5 = 0.9095212088112142\n",
      "Acc umbral 0.3 = 0.0\n"
     ]
    }
   ],
   "source": [
    "print('Acc umbral 0.5 =', accuracy_score(y_test, y_pred))\n",
    "print('Acc umbral 0.3 =', accuracy_score(y_test, y_pred_logit))"
   ]
  },
  {
   "cell_type": "code",
   "execution_count": null,
   "id": "df897754",
   "metadata": {},
   "outputs": [],
   "source": []
  },
  {
   "cell_type": "code",
   "execution_count": 73,
   "id": "10662709",
   "metadata": {},
   "outputs": [
    {
     "name": "stdout",
     "output_type": "stream",
     "text": [
      "Confusion matrix\n",
      "\n",
      " [[ 608    0    0    0]\n",
      " [   0 1647    2  147]\n",
      " [   0    2  672  116]\n",
      " [   0  129  101 2069]]\n",
      "\n",
      "True Positives(TP) =  1647\n",
      "\n",
      "True Negatives(TN) =  608\n",
      "\n",
      "False Positives(FP) =  0\n",
      "\n",
      "False Negatives(FN) =  0\n"
     ]
    }
   ],
   "source": [
    "# confusion matrix\n",
    "conf_mat = confusion_matrix(y_test, y_pred)\n",
    "\n",
    "print('Confusion matrix\\n\\n', conf_mat)\n",
    "print('\\nTrue Positives(TP) = ', conf_mat[1,1])\n",
    "print('\\nTrue Negatives(TN) = ', conf_mat[0,0])\n",
    "print('\\nFalse Positives(FP) = ', conf_mat[0,1])\n",
    "print('\\nFalse Negatives(FN) = ', conf_mat[1,0])"
   ]
  },
  {
   "cell_type": "code",
   "execution_count": null,
   "id": "ec8d8e55",
   "metadata": {},
   "outputs": [],
   "source": []
  },
  {
   "cell_type": "code",
   "execution_count": 75,
   "id": "68c054b8",
   "metadata": {},
   "outputs": [
    {
     "data": {
      "image/png": "[encoded data removed]",
      "text/plain": [
       "<Figure size 432x288 with 2 Axes>"
      ]
     },
     "metadata": {
      "needs_background": "light"
     },
     "output_type": "display_data"
    }
   ],
   "source": [
    "conf_mat_df = pd.DataFrame(data=conf_mat, \n",
    "                           index=['Arqueros', 'Defensores','Volantes','Delanteros'], \n",
    "                           columns=['Arqueros predichos','Defensores predichos','Volantes predichos','Delanteros predichos'])\n",
    "\n",
    "sns.heatmap(conf_mat_df, annot=True, fmt='d', cmap='YlGnBu');"
   ]
  },
  {
   "cell_type": "code",
   "execution_count": null,
   "id": "dca88a77",
   "metadata": {},
   "outputs": [],
   "source": []
  }
 ],
 "metadata": {
  "kernelspec": {
   "display_name": "Python 3",
   "language": "python",
   "name": "python3"
  },
  "language_info": {
   "codemirror_mode": {
    "name": "ipython",
    "version": 3
   },
   "file_extension": ".py",
   "mimetype": "text/x-python",
   "name": "python",
   "nbconvert_exporter": "python",
   "pygments_lexer": "ipython3",
   "version": "3.8.10"
  }
 },
 "nbformat": 4,
 "nbformat_minor": 5
}
